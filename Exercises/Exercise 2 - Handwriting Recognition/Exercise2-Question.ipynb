{
  "nbformat": 4,
  "nbformat_minor": 0,
  "metadata": {
    "colab": {
      "name": "Exercise2-Question.ipynb",
      "version": "0.3.2",
      "provenance": [],
      "collapsed_sections": []
    },
    "kernelspec": {
      "name": "python3",
      "display_name": "Python 3"
    }
  },
  "cells": [
    {
      "cell_type": "markdown",
      "metadata": {
        "id": "tOoyQ70H00_s",
        "colab_type": "text"
      },
      "source": [
        "## Exercise 2\n",
        "In the course you learned how to do classification using Fashion MNIST, a data set containing items of clothing. There's another, similar dataset called MNIST which has items of handwriting -- the digits 0 through 9.\n",
        "\n",
        "Write an MNIST classifier that trains to 99% accuracy or above, and does it without a fixed number of epochs -- i.e. you should stop training once you reach that level of accuracy.\n",
        "\n",
        "Some notes:\n",
        "1. It should succeed in less than 10 epochs, so it is okay to change epochs to 10, but nothing larger\n",
        "2. When it reaches 99% or greater it should print out the string \"Reached 99% accuracy so cancelling training!\"\n",
        "3. If you add any additional variables, make sure you use the same names as the ones used in the class\n",
        "\n",
        "I've started the code for you below -- how would you finish it? "
      ]
    },
    {
      "cell_type": "code",
      "metadata": {
        "id": "9rvXQGAA0ssC",
        "colab_type": "code",
        "colab": {
          "base_uri": "https://localhost:8080/",
          "height": 171
        },
        "outputId": "9c0539a9-b805-45a9-8026-75f4f3b1e4ca"
      },
      "source": [
        "import tensorflow as tf\n",
        "\n",
        "# YOUR CODE SHOULD START HERE\n",
        "\n",
        "class myCallBack(tf.keras.callbacks.Callback):\n",
        "  # provide default value for logs in case tf.keras does not provide a argument\n",
        "  def on_epoch_end(self, epoch, logs={}):\n",
        "    if(logs.get('acc')>0.99):\n",
        "      print('\\nReached 99% accuracy so cancelling training!')\n",
        "      self.model.stop_training = True\n",
        "      \n",
        "# YOUR CODE SHOULD END HERE\n",
        "\n",
        "mnist = tf.keras.datasets.fashion_mnist\n",
        "\n",
        "(x_train, y_train),(x_test, y_test) = mnist.load_data()\n",
        "x_train, x_test = x_train/255.0, x_test/255.0"
      ],
      "execution_count": 14,
      "outputs": [
        {
          "output_type": "stream",
          "text": [
            "Downloading data from https://storage.googleapis.com/tensorflow/tf-keras-datasets/train-labels-idx1-ubyte.gz\n",
            "32768/29515 [=================================] - 0s 0us/step\n",
            "Downloading data from https://storage.googleapis.com/tensorflow/tf-keras-datasets/train-images-idx3-ubyte.gz\n",
            "26427392/26421880 [==============================] - 0s 0us/step\n",
            "Downloading data from https://storage.googleapis.com/tensorflow/tf-keras-datasets/t10k-labels-idx1-ubyte.gz\n",
            "8192/5148 [===============================================] - 0s 0us/step\n",
            "Downloading data from https://storage.googleapis.com/tensorflow/tf-keras-datasets/t10k-images-idx3-ubyte.gz\n",
            "4423680/4422102 [==============================] - 0s 0us/step\n"
          ],
          "name": "stdout"
        }
      ]
    },
    {
      "cell_type": "code",
      "metadata": {
        "id": "IneOaaq5EFJ8",
        "colab_type": "code",
        "colab": {
          "base_uri": "https://localhost:8080/",
          "height": 390
        },
        "outputId": "fec175df-7a03-4f3a-a0f0-6df150eacabb"
      },
      "source": [
        "# YOUR CODE SHOULD START HERE\n",
        "\n",
        "callbacks = [myCallBack()]\n",
        "\n",
        "# YOUR CODE SHOULD END HERE\n",
        "\n",
        "model = tf.keras.models.Sequential([\n",
        "# YOUR CODE SHOULD START HERE\n",
        "      \n",
        "    tf.keras.layers.Flatten(input_shape=(28,28)),\n",
        "    tf.keras.layers.Dense(512, activation=tf.nn.relu),\n",
        "    tf.keras.layers.Dense(10, activation=tf.nn.softmax)\n",
        "    \n",
        "# YOUR CODE SHOULD END HERE\n",
        "])\n",
        "\n",
        "model.compile(optimizer='adam',\n",
        "              loss='sparse_categorical_crossentropy',\n",
        "              metrics=['accuracy'])\n",
        "\n",
        "# YOUR CODE SHOULD START HERE\n",
        "model.fit(x_train, y_train, epochs=10, callbacks=callbacks)\n",
        "# YOUR CODE SHOULD END HERE"
      ],
      "execution_count": 15,
      "outputs": [
        {
          "output_type": "stream",
          "text": [
            "Epoch 1/10\n",
            "60000/60000 [==============================] - 15s 244us/sample - loss: 0.4736 - acc: 0.8311\n",
            "Epoch 2/10\n",
            "60000/60000 [==============================] - 15s 244us/sample - loss: 0.3574 - acc: 0.8693\n",
            "Epoch 3/10\n",
            "60000/60000 [==============================] - 14s 241us/sample - loss: 0.3217 - acc: 0.8818\n",
            "Epoch 4/10\n",
            "60000/60000 [==============================] - 14s 238us/sample - loss: 0.2974 - acc: 0.8897\n",
            "Epoch 5/10\n",
            "60000/60000 [==============================] - 14s 230us/sample - loss: 0.2798 - acc: 0.8962\n",
            "Epoch 6/10\n",
            "60000/60000 [==============================] - 14s 234us/sample - loss: 0.2638 - acc: 0.9022\n",
            "Epoch 7/10\n",
            "60000/60000 [==============================] - 14s 236us/sample - loss: 0.2508 - acc: 0.9066\n",
            "Epoch 8/10\n",
            "60000/60000 [==============================] - 14s 234us/sample - loss: 0.2400 - acc: 0.9104\n",
            "Epoch 9/10\n",
            "60000/60000 [==============================] - 14s 235us/sample - loss: 0.2308 - acc: 0.9128\n",
            "Epoch 10/10\n",
            "60000/60000 [==============================] - 14s 233us/sample - loss: 0.2206 - acc: 0.9169\n"
          ],
          "name": "stdout"
        },
        {
          "output_type": "execute_result",
          "data": {
            "text/plain": [
              "<tensorflow.python.keras.callbacks.History at 0x7fc4c8032978>"
            ]
          },
          "metadata": {
            "tags": []
          },
          "execution_count": 15
        }
      ]
    },
    {
      "cell_type": "code",
      "metadata": {
        "id": "llGD8146MSXu",
        "colab_type": "code",
        "colab": {
          "base_uri": "https://localhost:8080/",
          "height": 70
        },
        "outputId": "6f331615-0efc-4332-e70a-6e8584c69382"
      },
      "source": [
        "model.evaluate(x=x_test, y=y_test, verbose=1)"
      ],
      "execution_count": 13,
      "outputs": [
        {
          "output_type": "stream",
          "text": [
            "10000/10000 [==============================] - 1s 56us/sample - loss: 0.0767 - acc: 0.9774\n"
          ],
          "name": "stdout"
        },
        {
          "output_type": "execute_result",
          "data": {
            "text/plain": [
              "[0.07666097089222167, 0.9774]"
            ]
          },
          "metadata": {
            "tags": []
          },
          "execution_count": 13
        }
      ]
    }
  ]
}