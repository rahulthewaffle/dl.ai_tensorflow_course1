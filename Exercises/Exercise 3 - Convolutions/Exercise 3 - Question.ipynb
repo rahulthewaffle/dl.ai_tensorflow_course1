{
  "nbformat": 4,
  "nbformat_minor": 0,
  "metadata": {
    "colab": {
      "name": "Exercise 3 - Question.ipynb",
      "version": "0.3.2",
      "provenance": [],
      "collapsed_sections": []
    },
    "kernelspec": {
      "name": "python3",
      "display_name": "Python 3"
    },
    "accelerator": "GPU"
  },
  "cells": [
    {
      "cell_type": "markdown",
      "metadata": {
        "id": "iQjHqsmTAVLU",
        "colab_type": "text"
      },
      "source": [
        "## Exercise 3\n",
        "In the videos you looked at how you would improve Fashion MNIST using Convolutions. For your exercise see if you can improve MNIST to 99.8% accuracy or more using only a single convolutional layer and a single MaxPooling 2D. You should stop training once the accuracy goes above this amount. It should happen in less than 20 epochs, so it's ok to hard code the number of epochs for training, but your training must end once it hits the above metric. If it doesn't, then you'll need to redesign your layers.\n",
        "\n",
        "I've started the code for you -- you need to finish it!\n",
        "\n",
        "When 99.8% accuracy has been hit, you should print out the string \"Reached 99.8% accuracy so cancelling training!\"\n"
      ]
    },
    {
      "cell_type": "code",
      "metadata": {
        "id": "sfQRyaJWAIdg",
        "colab_type": "code",
        "colab": {
          "base_uri": "https://localhost:8080/",
          "height": 655
        },
        "outputId": "7bc32c71-1e86-4e29-928f-eef9e7385b1a"
      },
      "source": [
        "import tensorflow as tf\n",
        "\n",
        "# YOUR CODE STARTS HERE\n",
        "class MyCallback(tf.keras.callbacks.Callback):\n",
        "  def on_epoch_end(self, epoch, logs={}):\n",
        "    if(logs.get('acc')>0.998):\n",
        "      print('\\nReached 99.8% accuracy, stopping training.')\n",
        "      self.model.stop_training=True\n",
        "# YOUR CODE ENDS HERE\n",
        "\n",
        "mnist = tf.keras.datasets.mnist\n",
        "(training_images, training_labels), (test_images, test_labels) = mnist.load_data()\n",
        "training_images = training_images.reshape(60000, 28, 28, 1)\n",
        "training_images = training_images/255.0\n",
        "test_images = test_images.reshape(10000, 28, 28, 1)\n",
        "test_images = test_images/255.0\n",
        "\n",
        "# YOUR CODE STARTS HERE\n",
        "callbacks = [MyCallback()]\n",
        "# YOUR CODE ENDS HERE\n",
        "\n",
        "model = tf.keras.models.Sequential([\n",
        "    # YOUR CODE STARTS HERE\n",
        "    tf.keras.layers.Conv2D(filters=32, kernel_size=3, input_shape=(28, 28, 1), activation=tf.nn.relu),\n",
        "    tf.keras.layers.MaxPool2D(),\n",
        "    tf.keras.layers.Flatten(),\n",
        "    tf.keras.layers.Dense(128, activation=tf.nn.relu),\n",
        "    tf.keras.layers.Dense(10, activation=tf.nn.softmax)\n",
        "    # YOUR CODE ENDS HERE\n",
        "])\n",
        "\n",
        "# YOUR CODE STARTS HERE\n",
        "model.compile(optimizer='adam', loss='sparse_categorical_crossentropy', metrics=['accuracy'])\n",
        "model.summary()\n",
        "model.fit(training_images, training_labels, epochs=20, callbacks=callbacks)\n",
        "test_loss = model.evaluate(test_images, test_labels)\n",
        "# YOUR CODE ENDS HERE\n",
        "\n"
      ],
      "execution_count": 19,
      "outputs": [
        {
          "output_type": "stream",
          "text": [
            "_________________________________________________________________\n",
            "Layer (type)                 Output Shape              Param #   \n",
            "=================================================================\n",
            "conv2d_10 (Conv2D)           (None, 26, 26, 32)        320       \n",
            "_________________________________________________________________\n",
            "max_pooling2d_10 (MaxPooling (None, 13, 13, 32)        0         \n",
            "_________________________________________________________________\n",
            "flatten_10 (Flatten)         (None, 5408)              0         \n",
            "_________________________________________________________________\n",
            "dense_10 (Dense)             (None, 128)               692352    \n",
            "_________________________________________________________________\n",
            "dense_11 (Dense)             (None, 10)                1290      \n",
            "=================================================================\n",
            "Total params: 693,962\n",
            "Trainable params: 693,962\n",
            "Non-trainable params: 0\n",
            "_________________________________________________________________\n",
            "Epoch 1/20\n",
            "60000/60000 [==============================] - 7s 123us/sample - loss: 0.1475 - acc: 0.9553\n",
            "Epoch 2/20\n",
            "60000/60000 [==============================] - 7s 111us/sample - loss: 0.0510 - acc: 0.9849\n",
            "Epoch 3/20\n",
            "60000/60000 [==============================] - 7s 109us/sample - loss: 0.0329 - acc: 0.9898\n",
            "Epoch 4/20\n",
            "60000/60000 [==============================] - 7s 111us/sample - loss: 0.0219 - acc: 0.9930\n",
            "Epoch 5/20\n",
            "60000/60000 [==============================] - 7s 109us/sample - loss: 0.0161 - acc: 0.9951\n",
            "Epoch 6/20\n",
            "60000/60000 [==============================] - 7s 109us/sample - loss: 0.0105 - acc: 0.9968\n",
            "Epoch 7/20\n",
            "60000/60000 [==============================] - 7s 109us/sample - loss: 0.0081 - acc: 0.9974\n",
            "Epoch 8/20\n",
            "60000/60000 [==============================] - 7s 117us/sample - loss: 0.0073 - acc: 0.9975\n",
            "Epoch 9/20\n",
            "59680/60000 [============================>.] - ETA: 0s - loss: 0.0054 - acc: 0.9985\n",
            "Reached 99.8% accuracy, stopping training.\n",
            "60000/60000 [==============================] - 7s 120us/sample - loss: 0.0055 - acc: 0.9984\n",
            "10000/10000 [==============================] - 1s 54us/sample - loss: 0.0559 - acc: 0.9855\n"
          ],
          "name": "stdout"
        }
      ]
    }
  ]
}